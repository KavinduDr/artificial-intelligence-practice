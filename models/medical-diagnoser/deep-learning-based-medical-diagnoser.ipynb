{
 "cells": [
  {
   "cell_type": "code",
   "execution_count": 1,
   "metadata": {},
   "outputs": [],
   "source": [
    "import pandas as pd\n",
    "import numpy as np\n",
    "from tensorflow.keras.preprocessing.text import Tokenizer\n",
    "from tensorflow.keras.preprocessing.sequence import pad_sequences\n",
    "from tensorflow.keras.utils import to_categorical\n",
    "from sklearn.preprocessing import LabelEncoder\n",
    "from tensorflow.keras.models import Model\n",
    "from tensorflow.keras.layers import Input, Embedding, LSTM, Dense"
   ]
  },
  {
   "cell_type": "markdown",
   "metadata": {},
   "source": [
    "Loading the dataset"
   ]
  },
  {
   "cell_type": "code",
   "execution_count": 2,
   "metadata": {},
   "outputs": [
    {
     "data": {
      "text/html": [
       "<div>\n",
       "<style scoped>\n",
       "    .dataframe tbody tr th:only-of-type {\n",
       "        vertical-align: middle;\n",
       "    }\n",
       "\n",
       "    .dataframe tbody tr th {\n",
       "        vertical-align: top;\n",
       "    }\n",
       "\n",
       "    .dataframe thead th {\n",
       "        text-align: right;\n",
       "    }\n",
       "</style>\n",
       "<table border=\"1\" class=\"dataframe\">\n",
       "  <thead>\n",
       "    <tr style=\"text-align: right;\">\n",
       "      <th></th>\n",
       "      <th>Patient_Problem</th>\n",
       "      <th>Disease</th>\n",
       "      <th>Prescription</th>\n",
       "    </tr>\n",
       "  </thead>\n",
       "  <tbody>\n",
       "    <tr>\n",
       "      <th>0</th>\n",
       "      <td>Constant fatigue and muscle weakness, struggli...</td>\n",
       "      <td>Chronic Fatigue Syndrome</td>\n",
       "      <td>Cognitive behavioral therapy, graded exercise ...</td>\n",
       "    </tr>\n",
       "    <tr>\n",
       "      <th>1</th>\n",
       "      <td>Frequent severe migraines, sensitivity to ligh...</td>\n",
       "      <td>Migraine with Aura</td>\n",
       "      <td>Prescription triptans, avoid triggers like bri...</td>\n",
       "    </tr>\n",
       "    <tr>\n",
       "      <th>2</th>\n",
       "      <td>Sudden weight gain and feeling cold, especiall...</td>\n",
       "      <td>Hypothyroidism</td>\n",
       "      <td>Levothyroxine to regulate thyroid hormone levels.</td>\n",
       "    </tr>\n",
       "    <tr>\n",
       "      <th>3</th>\n",
       "      <td>High fever, sore throat, and swollen lymph nod...</td>\n",
       "      <td>Mononucleosis</td>\n",
       "      <td>Rest and hydration, ibuprofen for pain.</td>\n",
       "    </tr>\n",
       "    <tr>\n",
       "      <th>4</th>\n",
       "      <td>Excessive thirst and frequent urination, dry m...</td>\n",
       "      <td>Diabetes Mellitus</td>\n",
       "      <td>Insulin therapy and lifestyle changes.</td>\n",
       "    </tr>\n",
       "  </tbody>\n",
       "</table>\n",
       "</div>"
      ],
      "text/plain": [
       "                                     Patient_Problem  \\\n",
       "0  Constant fatigue and muscle weakness, struggli...   \n",
       "1  Frequent severe migraines, sensitivity to ligh...   \n",
       "2  Sudden weight gain and feeling cold, especiall...   \n",
       "3  High fever, sore throat, and swollen lymph nod...   \n",
       "4  Excessive thirst and frequent urination, dry m...   \n",
       "\n",
       "                    Disease                                       Prescription  \n",
       "0  Chronic Fatigue Syndrome  Cognitive behavioral therapy, graded exercise ...  \n",
       "1        Migraine with Aura  Prescription triptans, avoid triggers like bri...  \n",
       "2            Hypothyroidism  Levothyroxine to regulate thyroid hormone levels.  \n",
       "3             Mononucleosis            Rest and hydration, ibuprofen for pain.  \n",
       "4         Diabetes Mellitus             Insulin therapy and lifestyle changes.  "
      ]
     },
     "execution_count": 2,
     "metadata": {},
     "output_type": "execute_result"
    }
   ],
   "source": [
    "data = pd.read_csv('../../datasets/medical_data.csv')\n",
    "data.head()"
   ]
  },
  {
   "cell_type": "markdown",
   "metadata": {},
   "source": [
    "Data Preprocessing and Preparation\n",
    "Before using medical data in a deep learning model, it needs to be preprocessed to ensure the model can understand it. Preprocessing steps often include:\n",
    "\n",
    "Text Tokenization: Converting textual data into sequences of numbers that the model can process.\n",
    "Padding Sequences: Making all sequences the same length by adding padding characters at the beginning or end of shorter sequences.\n",
    "Label Encoding: Converting categorical variables, such as disease names and medication names, into numerical labels."
   ]
  },
  {
   "cell_type": "markdown",
   "metadata": {},
   "source": [
    "Tokenizing and sequencing data"
   ]
  },
  {
   "cell_type": "code",
   "execution_count": 5,
   "metadata": {},
   "outputs": [],
   "source": [
    "tokenizer = Tokenizer(num_words=5000, oov_token=\"<OOV>\")\n",
    "tokenizer.fit_on_texts(data['Patient_Problem'])\n",
    "\n",
    "sequences = tokenizer.texts_to_sequences(data['Patient_Problem'])\n",
    "#A 'tokenizer' variable is created to convert the textual data into sequences of integers. It only considers the top 5,000 words in the dataset in order to reduce the complexity. If the model encounters any out-of-vocabulary words during the training process then it will be replaced with the '<OOV>' token."
   ]
  },
  {
   "cell_type": "markdown",
   "metadata": {},
   "source": [
    "Padding Sequences\n",
    "In order to make the input sequences have the same length, the code finds the longest sequence and pads all other sequences with zeros at the end ('post' padding) to match this sentence."
   ]
  },
  {
   "cell_type": "code",
   "execution_count": 6,
   "metadata": {},
   "outputs": [],
   "source": [
    "max_length = max(len(x) for x in sequences)\n",
    "padded_sequences = pad_sequences(sequences, maxlen=max_length, padding='post')\n",
    "#The 'pad_sequences' function is used to ensure that all the sequences have the same length. The 'maxlen' parameter is set to the maximum length of the sequences in the dataset. The 'padding' parameter is set to 'post' in order to add zeros at the end of the sequences."
   ]
  },
  {
   "cell_type": "markdown",
   "metadata": {},
   "source": [
    "Encoding the Labels and Converting them to Categorical\n",
    "We will encode the 'Disease' and 'Prescription' columns as integers. Then the integer-encoded labels are converted into binary class matrices."
   ]
  },
  {
   "cell_type": "code",
   "execution_count": 7,
   "metadata": {},
   "outputs": [],
   "source": [
    "# Encoding the labels\n",
    "label_encoder_disease = LabelEncoder()\n",
    "label_encoder_prescription = LabelEncoder()\n",
    "\n",
    "disease_labels = label_encoder_disease.fit_transform(data['Disease'])\n",
    "prescription_labels = label_encoder_prescription.fit_transform(data['Prescription'])\n",
    "\n",
    "# Converting labels to categorical\n",
    "disease_labels_categorical = to_categorical(disease_labels)\n",
    "prescription_labels_categorical = to_categorical(prescription_labels)"
   ]
  },
  {
   "cell_type": "markdown",
   "metadata": {},
   "source": [
    "Combining Labels into a Multi-label Target Variable\n",
    "Finally, now we will stack the binary class matrices together to form a single multi-label target variable 'Y'. This allows the model to predict both 'Disease' and 'Prescription' from the patient's problem."
   ]
  },
  {
   "cell_type": "code",
   "execution_count": 8,
   "metadata": {},
   "outputs": [],
   "source": [
    "Y = np.hstack((disease_labels_categorical, prescription_labels_categorical))"
   ]
  },
  {
   "cell_type": "markdown",
   "metadata": {},
   "source": [
    "Model Building\n",
    "Now, we will build the model using the LSTM and Sequential algorithm from TensorFlow. This model will learn from our preprocessed dataset to predict diseases based on patient symptoms.\n",
    "\n",
    "Defining Model Architecture\n",
    "We will use the 'Model' and 'Input' to define the model architecture, and 'Embedding' to convert the integer sequences into dense vectors of fixed size. We will use 'Dense' for output layers that make predictions."
   ]
  },
  {
   "cell_type": "code",
   "execution_count": 9,
   "metadata": {},
   "outputs": [],
   "source": [
    "input_layer = Input(shape=(max_length,))\n",
    "\n",
    "embedding = Embedding(input_dim=5000, output_dim=64)(input_layer)\n",
    "lstm_layer = LSTM(64)(embedding)\n",
    "\n",
    "disease_output = Dense(len(label_encoder_disease.classes_), activation='softmax', \n",
    "name='disease_output')(lstm_layer)\n",
    "\n",
    "prescription_output = Dense(len(label_encoder_prescription.classes_), \n",
    "activation='softmax', name='prescription_output')(lstm_layer)\n",
    "#The model firstly have, an input layer that can handle sequences up to a certain length. Then there's an embedding layer that turns the numbers into vectors. After that, there's an LSTM layer that looks at the order of things, and finally, two dense layers that predict diseases and prescriptions using a softmax function for classification."
   ]
  },
  {
   "cell_type": "markdown",
   "metadata": {},
   "source": [
    "Compiling the model"
   ]
  },
  {
   "cell_type": "code",
   "execution_count": 10,
   "metadata": {},
   "outputs": [
    {
     "name": "stdout",
     "output_type": "stream",
     "text": [
      "Model: \"model\"\n",
      "__________________________________________________________________________________________________\n",
      " Layer (type)                   Output Shape         Param #     Connected to                     \n",
      "==================================================================================================\n",
      " input_1 (InputLayer)           [(None, 17)]         0           []                               \n",
      "                                                                                                  \n",
      " embedding (Embedding)          (None, 17, 64)       320000      ['input_1[0][0]']                \n",
      "                                                                                                  \n",
      " lstm (LSTM)                    (None, 64)           33024       ['embedding[0][0]']              \n",
      "                                                                                                  \n",
      " disease_output (Dense)         (None, 178)          11570       ['lstm[0][0]']                   \n",
      "                                                                                                  \n",
      " prescription_output (Dense)    (None, 388)          25220       ['lstm[0][0]']                   \n",
      "                                                                                                  \n",
      "==================================================================================================\n",
      "Total params: 389,814\n",
      "Trainable params: 389,814\n",
      "Non-trainable params: 0\n",
      "__________________________________________________________________________________________________\n"
     ]
    }
   ],
   "source": [
    "model = Model(inputs=input_layer, outputs=[disease_output, prescription_output])\n",
    "\n",
    "model.compile(\n",
    "    loss={'disease_output': 'categorical_crossentropy', \n",
    "    'prescription_output': 'categorical_crossentropy'},\n",
    "    optimizer='adam',\n",
    "    metrics={'disease_output': ['accuracy'], 'prescription_output': ['accuracy']}\n",
    ")\n",
    "\n",
    "model.summary()"
   ]
  },
  {
   "cell_type": "markdown",
   "metadata": {},
   "source": [
    "Training the model"
   ]
  },
  {
   "cell_type": "code",
   "execution_count": 11,
   "metadata": {},
   "outputs": [
    {
     "name": "stdout",
     "output_type": "stream",
     "text": [
      "Epoch 1/100\n",
      "13/13 [==============================] - 9s 28ms/step - loss: 11.1451 - disease_output_loss: 5.1792 - prescription_output_loss: 5.9660 - disease_output_accuracy: 0.0172 - prescription_output_accuracy: 0.0025\n",
      "Epoch 2/100\n",
      "13/13 [==============================] - 0s 16ms/step - loss: 11.1265 - disease_output_loss: 5.1634 - prescription_output_loss: 5.9631 - disease_output_accuracy: 0.0319 - prescription_output_accuracy: 0.0049\n",
      "Epoch 3/100\n",
      "13/13 [==============================] - 0s 15ms/step - loss: 11.0896 - disease_output_loss: 5.1247 - prescription_output_loss: 5.9649 - disease_output_accuracy: 0.0319 - prescription_output_accuracy: 0.0049\n",
      "Epoch 4/100\n",
      "13/13 [==============================] - 0s 15ms/step - loss: 10.9979 - disease_output_loss: 4.9951 - prescription_output_loss: 6.0028 - disease_output_accuracy: 0.0319 - prescription_output_accuracy: 0.0049\n",
      "Epoch 5/100\n",
      "13/13 [==============================] - 0s 14ms/step - loss: 10.8667 - disease_output_loss: 4.8988 - prescription_output_loss: 5.9679 - disease_output_accuracy: 0.0319 - prescription_output_accuracy: 0.0049\n",
      "Epoch 6/100\n",
      "13/13 [==============================] - 0s 11ms/step - loss: 10.7138 - disease_output_loss: 4.7829 - prescription_output_loss: 5.9310 - disease_output_accuracy: 0.0319 - prescription_output_accuracy: 0.0098\n",
      "Epoch 7/100\n",
      "13/13 [==============================] - 0s 12ms/step - loss: 10.5249 - disease_output_loss: 4.6682 - prescription_output_loss: 5.8567 - disease_output_accuracy: 0.0319 - prescription_output_accuracy: 0.0172\n",
      "Epoch 8/100\n",
      "13/13 [==============================] - 0s 15ms/step - loss: 10.3703 - disease_output_loss: 4.5953 - prescription_output_loss: 5.7750 - disease_output_accuracy: 0.0393 - prescription_output_accuracy: 0.0197\n",
      "Epoch 9/100\n",
      "13/13 [==============================] - 0s 10ms/step - loss: 10.2457 - disease_output_loss: 4.5266 - prescription_output_loss: 5.7191 - disease_output_accuracy: 0.0393 - prescription_output_accuracy: 0.0172\n",
      "Epoch 10/100\n",
      "13/13 [==============================] - 0s 11ms/step - loss: 10.1055 - disease_output_loss: 4.4552 - prescription_output_loss: 5.6503 - disease_output_accuracy: 0.0467 - prescription_output_accuracy: 0.0197\n",
      "Epoch 11/100\n",
      "13/13 [==============================] - 0s 20ms/step - loss: 9.9724 - disease_output_loss: 4.3803 - prescription_output_loss: 5.5921 - disease_output_accuracy: 0.0541 - prescription_output_accuracy: 0.0221\n",
      "Epoch 12/100\n",
      "13/13 [==============================] - 0s 16ms/step - loss: 9.8041 - disease_output_loss: 4.2792 - prescription_output_loss: 5.5249 - disease_output_accuracy: 0.0688 - prescription_output_accuracy: 0.0221\n",
      "Epoch 13/100\n",
      "13/13 [==============================] - 0s 17ms/step - loss: 9.6485 - disease_output_loss: 4.2029 - prescription_output_loss: 5.4456 - disease_output_accuracy: 0.0688 - prescription_output_accuracy: 0.0246\n",
      "Epoch 14/100\n",
      "13/13 [==============================] - 0s 16ms/step - loss: 9.4473 - disease_output_loss: 4.0850 - prescription_output_loss: 5.3622 - disease_output_accuracy: 0.0835 - prescription_output_accuracy: 0.0246\n",
      "Epoch 15/100\n",
      "13/13 [==============================] - 0s 14ms/step - loss: 9.2591 - disease_output_loss: 3.9812 - prescription_output_loss: 5.2779 - disease_output_accuracy: 0.0860 - prescription_output_accuracy: 0.0270\n",
      "Epoch 16/100\n",
      "13/13 [==============================] - 0s 15ms/step - loss: 9.0735 - disease_output_loss: 3.8831 - prescription_output_loss: 5.1904 - disease_output_accuracy: 0.1229 - prescription_output_accuracy: 0.0295\n",
      "Epoch 17/100\n",
      "13/13 [==============================] - 0s 15ms/step - loss: 8.8849 - disease_output_loss: 3.7722 - prescription_output_loss: 5.1127 - disease_output_accuracy: 0.1548 - prescription_output_accuracy: 0.0319\n",
      "Epoch 18/100\n",
      "13/13 [==============================] - 0s 14ms/step - loss: 8.6896 - disease_output_loss: 3.6700 - prescription_output_loss: 5.0196 - disease_output_accuracy: 0.1769 - prescription_output_accuracy: 0.0319\n",
      "Epoch 19/100\n",
      "13/13 [==============================] - 0s 14ms/step - loss: 8.5235 - disease_output_loss: 3.5781 - prescription_output_loss: 4.9454 - disease_output_accuracy: 0.2088 - prescription_output_accuracy: 0.0393\n",
      "Epoch 20/100\n",
      "13/13 [==============================] - 0s 14ms/step - loss: 8.3972 - disease_output_loss: 3.5268 - prescription_output_loss: 4.8704 - disease_output_accuracy: 0.2187 - prescription_output_accuracy: 0.0442\n",
      "Epoch 21/100\n",
      "13/13 [==============================] - 0s 14ms/step - loss: 8.1823 - disease_output_loss: 3.4081 - prescription_output_loss: 4.7743 - disease_output_accuracy: 0.2260 - prescription_output_accuracy: 0.0467\n",
      "Epoch 22/100\n",
      "13/13 [==============================] - 0s 16ms/step - loss: 8.0024 - disease_output_loss: 3.3206 - prescription_output_loss: 4.6818 - disease_output_accuracy: 0.2678 - prescription_output_accuracy: 0.0639\n",
      "Epoch 23/100\n",
      "13/13 [==============================] - 0s 15ms/step - loss: 7.8607 - disease_output_loss: 3.2402 - prescription_output_loss: 4.6204 - disease_output_accuracy: 0.2678 - prescription_output_accuracy: 0.0590\n",
      "Epoch 24/100\n",
      "13/13 [==============================] - 0s 15ms/step - loss: 7.6648 - disease_output_loss: 3.1437 - prescription_output_loss: 4.5211 - disease_output_accuracy: 0.2703 - prescription_output_accuracy: 0.0786\n",
      "Epoch 25/100\n",
      "13/13 [==============================] - 0s 23ms/step - loss: 7.4798 - disease_output_loss: 3.0415 - prescription_output_loss: 4.4383 - disease_output_accuracy: 0.2998 - prescription_output_accuracy: 0.0835\n",
      "Epoch 26/100\n",
      "13/13 [==============================] - 0s 21ms/step - loss: 7.2833 - disease_output_loss: 2.9446 - prescription_output_loss: 4.3387 - disease_output_accuracy: 0.3096 - prescription_output_accuracy: 0.1081\n",
      "Epoch 27/100\n",
      "13/13 [==============================] - 0s 16ms/step - loss: 7.0726 - disease_output_loss: 2.8375 - prescription_output_loss: 4.2351 - disease_output_accuracy: 0.3464 - prescription_output_accuracy: 0.1302\n",
      "Epoch 28/100\n",
      "13/13 [==============================] - 0s 16ms/step - loss: 6.9016 - disease_output_loss: 2.7504 - prescription_output_loss: 4.1511 - disease_output_accuracy: 0.3882 - prescription_output_accuracy: 0.1425\n",
      "Epoch 29/100\n",
      "13/13 [==============================] - 0s 19ms/step - loss: 6.8236 - disease_output_loss: 2.7154 - prescription_output_loss: 4.1082 - disease_output_accuracy: 0.3563 - prescription_output_accuracy: 0.1499\n",
      "Epoch 30/100\n",
      "13/13 [==============================] - 0s 22ms/step - loss: 6.6332 - disease_output_loss: 2.6171 - prescription_output_loss: 4.0161 - disease_output_accuracy: 0.4152 - prescription_output_accuracy: 0.1572\n",
      "Epoch 31/100\n",
      "13/13 [==============================] - 0s 17ms/step - loss: 6.4105 - disease_output_loss: 2.4965 - prescription_output_loss: 3.9140 - disease_output_accuracy: 0.4324 - prescription_output_accuracy: 0.1916\n",
      "Epoch 32/100\n",
      "13/13 [==============================] - 0s 15ms/step - loss: 6.2027 - disease_output_loss: 2.4029 - prescription_output_loss: 3.7998 - disease_output_accuracy: 0.4595 - prescription_output_accuracy: 0.2432\n",
      "Epoch 33/100\n",
      "13/13 [==============================] - 0s 15ms/step - loss: 6.0213 - disease_output_loss: 2.3085 - prescription_output_loss: 3.7128 - disease_output_accuracy: 0.5012 - prescription_output_accuracy: 0.2826\n",
      "Epoch 34/100\n",
      "13/13 [==============================] - 0s 12ms/step - loss: 5.8907 - disease_output_loss: 2.2421 - prescription_output_loss: 3.6486 - disease_output_accuracy: 0.5307 - prescription_output_accuracy: 0.2826\n",
      "Epoch 35/100\n",
      "13/13 [==============================] - 0s 14ms/step - loss: 5.7521 - disease_output_loss: 2.1854 - prescription_output_loss: 3.5667 - disease_output_accuracy: 0.5258 - prescription_output_accuracy: 0.3120\n",
      "Epoch 36/100\n",
      "13/13 [==============================] - 0s 17ms/step - loss: 5.6396 - disease_output_loss: 2.1297 - prescription_output_loss: 3.5099 - disease_output_accuracy: 0.5332 - prescription_output_accuracy: 0.3194\n",
      "Epoch 37/100\n",
      "13/13 [==============================] - 0s 15ms/step - loss: 5.4881 - disease_output_loss: 2.0643 - prescription_output_loss: 3.4238 - disease_output_accuracy: 0.5430 - prescription_output_accuracy: 0.3440\n",
      "Epoch 38/100\n",
      "13/13 [==============================] - 0s 19ms/step - loss: 5.3861 - disease_output_loss: 2.0197 - prescription_output_loss: 3.3664 - disease_output_accuracy: 0.5602 - prescription_output_accuracy: 0.3514\n",
      "Epoch 39/100\n",
      "13/13 [==============================] - 0s 13ms/step - loss: 5.2584 - disease_output_loss: 1.9527 - prescription_output_loss: 3.3057 - disease_output_accuracy: 0.5848 - prescription_output_accuracy: 0.3710\n",
      "Epoch 40/100\n",
      "13/13 [==============================] - 0s 13ms/step - loss: 5.1134 - disease_output_loss: 1.8794 - prescription_output_loss: 3.2340 - disease_output_accuracy: 0.5921 - prescription_output_accuracy: 0.3882\n",
      "Epoch 41/100\n",
      "13/13 [==============================] - 0s 14ms/step - loss: 5.0279 - disease_output_loss: 1.8540 - prescription_output_loss: 3.1740 - disease_output_accuracy: 0.6020 - prescription_output_accuracy: 0.4128\n",
      "Epoch 42/100\n",
      "13/13 [==============================] - 0s 19ms/step - loss: 4.9297 - disease_output_loss: 1.8090 - prescription_output_loss: 3.1207 - disease_output_accuracy: 0.5995 - prescription_output_accuracy: 0.4103\n",
      "Epoch 43/100\n",
      "13/13 [==============================] - 0s 11ms/step - loss: 4.8257 - disease_output_loss: 1.7589 - prescription_output_loss: 3.0669 - disease_output_accuracy: 0.6020 - prescription_output_accuracy: 0.4054\n",
      "Epoch 44/100\n",
      "13/13 [==============================] - 0s 14ms/step - loss: 4.7811 - disease_output_loss: 1.7402 - prescription_output_loss: 3.0409 - disease_output_accuracy: 0.6388 - prescription_output_accuracy: 0.4201\n",
      "Epoch 45/100\n",
      "13/13 [==============================] - 0s 13ms/step - loss: 4.6669 - disease_output_loss: 1.6945 - prescription_output_loss: 2.9724 - disease_output_accuracy: 0.6265 - prescription_output_accuracy: 0.4324\n",
      "Epoch 46/100\n",
      "13/13 [==============================] - 0s 12ms/step - loss: 4.5668 - disease_output_loss: 1.6541 - prescription_output_loss: 2.9127 - disease_output_accuracy: 0.6437 - prescription_output_accuracy: 0.4570\n",
      "Epoch 47/100\n",
      "13/13 [==============================] - 0s 13ms/step - loss: 4.4687 - disease_output_loss: 1.6096 - prescription_output_loss: 2.8592 - disease_output_accuracy: 0.6462 - prescription_output_accuracy: 0.4570\n",
      "Epoch 48/100\n",
      "13/13 [==============================] - 0s 12ms/step - loss: 4.4433 - disease_output_loss: 1.6035 - prescription_output_loss: 2.8399 - disease_output_accuracy: 0.6486 - prescription_output_accuracy: 0.4619\n",
      "Epoch 49/100\n",
      "13/13 [==============================] - 0s 13ms/step - loss: 4.3007 - disease_output_loss: 1.5247 - prescription_output_loss: 2.7760 - disease_output_accuracy: 0.6757 - prescription_output_accuracy: 0.4693\n",
      "Epoch 50/100\n",
      "13/13 [==============================] - 0s 13ms/step - loss: 4.1858 - disease_output_loss: 1.4704 - prescription_output_loss: 2.7155 - disease_output_accuracy: 0.6929 - prescription_output_accuracy: 0.5061\n",
      "Epoch 51/100\n",
      "13/13 [==============================] - 0s 11ms/step - loss: 4.0848 - disease_output_loss: 1.4252 - prescription_output_loss: 2.6596 - disease_output_accuracy: 0.7101 - prescription_output_accuracy: 0.5332\n",
      "Epoch 52/100\n",
      "13/13 [==============================] - 0s 13ms/step - loss: 4.0413 - disease_output_loss: 1.4101 - prescription_output_loss: 2.6311 - disease_output_accuracy: 0.7174 - prescription_output_accuracy: 0.5037\n",
      "Epoch 53/100\n",
      "13/13 [==============================] - 0s 13ms/step - loss: 3.9700 - disease_output_loss: 1.3858 - prescription_output_loss: 2.5842 - disease_output_accuracy: 0.7027 - prescription_output_accuracy: 0.5111\n",
      "Epoch 54/100\n",
      "13/13 [==============================] - 0s 12ms/step - loss: 3.8818 - disease_output_loss: 1.3518 - prescription_output_loss: 2.5300 - disease_output_accuracy: 0.7396 - prescription_output_accuracy: 0.5430\n",
      "Epoch 55/100\n",
      "13/13 [==============================] - 0s 13ms/step - loss: 3.7691 - disease_output_loss: 1.3053 - prescription_output_loss: 2.4638 - disease_output_accuracy: 0.7494 - prescription_output_accuracy: 0.5676\n",
      "Epoch 56/100\n",
      "13/13 [==============================] - 0s 12ms/step - loss: 3.6632 - disease_output_loss: 1.2521 - prescription_output_loss: 2.4111 - disease_output_accuracy: 0.7469 - prescription_output_accuracy: 0.5651\n",
      "Epoch 57/100\n",
      "13/13 [==============================] - 0s 12ms/step - loss: 3.5734 - disease_output_loss: 1.2171 - prescription_output_loss: 2.3563 - disease_output_accuracy: 0.7838 - prescription_output_accuracy: 0.5897\n",
      "Epoch 58/100\n",
      "13/13 [==============================] - 0s 12ms/step - loss: 3.5332 - disease_output_loss: 1.2057 - prescription_output_loss: 2.3275 - disease_output_accuracy: 0.7813 - prescription_output_accuracy: 0.6044\n",
      "Epoch 59/100\n",
      "13/13 [==============================] - 0s 13ms/step - loss: 3.4757 - disease_output_loss: 1.1734 - prescription_output_loss: 2.3023 - disease_output_accuracy: 0.7789 - prescription_output_accuracy: 0.5921\n",
      "Epoch 60/100\n",
      "13/13 [==============================] - 0s 11ms/step - loss: 3.4253 - disease_output_loss: 1.1584 - prescription_output_loss: 2.2669 - disease_output_accuracy: 0.7789 - prescription_output_accuracy: 0.6069\n",
      "Epoch 61/100\n",
      "13/13 [==============================] - 0s 12ms/step - loss: 3.3684 - disease_output_loss: 1.1360 - prescription_output_loss: 2.2324 - disease_output_accuracy: 0.8010 - prescription_output_accuracy: 0.6020\n",
      "Epoch 62/100\n",
      "13/13 [==============================] - 0s 13ms/step - loss: 3.2639 - disease_output_loss: 1.0920 - prescription_output_loss: 2.1718 - disease_output_accuracy: 0.8133 - prescription_output_accuracy: 0.6364\n",
      "Epoch 63/100\n",
      "13/13 [==============================] - 0s 12ms/step - loss: 3.1954 - disease_output_loss: 1.0591 - prescription_output_loss: 2.1363 - disease_output_accuracy: 0.8305 - prescription_output_accuracy: 0.6462\n",
      "Epoch 64/100\n",
      "13/13 [==============================] - 0s 13ms/step - loss: 3.0942 - disease_output_loss: 1.0177 - prescription_output_loss: 2.0765 - disease_output_accuracy: 0.8378 - prescription_output_accuracy: 0.6634\n",
      "Epoch 65/100\n",
      "13/13 [==============================] - 0s 12ms/step - loss: 3.0497 - disease_output_loss: 1.0030 - prescription_output_loss: 2.0467 - disease_output_accuracy: 0.8378 - prescription_output_accuracy: 0.6683\n",
      "Epoch 66/100\n",
      "13/13 [==============================] - 0s 11ms/step - loss: 3.0092 - disease_output_loss: 0.9879 - prescription_output_loss: 2.0213 - disease_output_accuracy: 0.8231 - prescription_output_accuracy: 0.6585\n",
      "Epoch 67/100\n",
      "13/13 [==============================] - 0s 11ms/step - loss: 2.9413 - disease_output_loss: 0.9594 - prescription_output_loss: 1.9819 - disease_output_accuracy: 0.8624 - prescription_output_accuracy: 0.6929\n",
      "Epoch 68/100\n",
      "13/13 [==============================] - 0s 13ms/step - loss: 2.9067 - disease_output_loss: 0.9480 - prescription_output_loss: 1.9587 - disease_output_accuracy: 0.8428 - prescription_output_accuracy: 0.6929\n",
      "Epoch 69/100\n",
      "13/13 [==============================] - 0s 12ms/step - loss: 2.8676 - disease_output_loss: 0.9295 - prescription_output_loss: 1.9381 - disease_output_accuracy: 0.8526 - prescription_output_accuracy: 0.6855\n",
      "Epoch 70/100\n",
      "13/13 [==============================] - 0s 12ms/step - loss: 2.8293 - disease_output_loss: 0.9198 - prescription_output_loss: 1.9095 - disease_output_accuracy: 0.8526 - prescription_output_accuracy: 0.6781\n",
      "Epoch 71/100\n",
      "13/13 [==============================] - 0s 12ms/step - loss: 2.8267 - disease_output_loss: 0.9224 - prescription_output_loss: 1.9043 - disease_output_accuracy: 0.8526 - prescription_output_accuracy: 0.6560\n",
      "Epoch 72/100\n",
      "13/13 [==============================] - 0s 12ms/step - loss: 2.7344 - disease_output_loss: 0.8731 - prescription_output_loss: 1.8613 - disease_output_accuracy: 0.8722 - prescription_output_accuracy: 0.7174\n",
      "Epoch 73/100\n",
      "13/13 [==============================] - 0s 11ms/step - loss: 2.6505 - disease_output_loss: 0.8458 - prescription_output_loss: 1.8047 - disease_output_accuracy: 0.8771 - prescription_output_accuracy: 0.7248\n",
      "Epoch 74/100\n",
      "13/13 [==============================] - 0s 18ms/step - loss: 2.5950 - disease_output_loss: 0.8202 - prescription_output_loss: 1.7748 - disease_output_accuracy: 0.8845 - prescription_output_accuracy: 0.7150\n",
      "Epoch 75/100\n",
      "13/13 [==============================] - 0s 11ms/step - loss: 2.5809 - disease_output_loss: 0.8200 - prescription_output_loss: 1.7609 - disease_output_accuracy: 0.8796 - prescription_output_accuracy: 0.7224\n",
      "Epoch 76/100\n",
      "13/13 [==============================] - 0s 12ms/step - loss: 2.6119 - disease_output_loss: 0.8379 - prescription_output_loss: 1.7741 - disease_output_accuracy: 0.8747 - prescription_output_accuracy: 0.7101\n",
      "Epoch 77/100\n",
      "13/13 [==============================] - 0s 12ms/step - loss: 2.5211 - disease_output_loss: 0.8021 - prescription_output_loss: 1.7190 - disease_output_accuracy: 0.8845 - prescription_output_accuracy: 0.7174\n",
      "Epoch 78/100\n",
      "13/13 [==============================] - 0s 11ms/step - loss: 2.4554 - disease_output_loss: 0.7700 - prescription_output_loss: 1.6854 - disease_output_accuracy: 0.8943 - prescription_output_accuracy: 0.7322\n",
      "Epoch 79/100\n",
      "13/13 [==============================] - 0s 13ms/step - loss: 2.3770 - disease_output_loss: 0.7368 - prescription_output_loss: 1.6402 - disease_output_accuracy: 0.9214 - prescription_output_accuracy: 0.7445\n",
      "Epoch 80/100\n",
      "13/13 [==============================] - 0s 12ms/step - loss: 2.3315 - disease_output_loss: 0.7202 - prescription_output_loss: 1.6113 - disease_output_accuracy: 0.9115 - prescription_output_accuracy: 0.7494\n",
      "Epoch 81/100\n",
      "13/13 [==============================] - 0s 11ms/step - loss: 2.3104 - disease_output_loss: 0.7056 - prescription_output_loss: 1.6047 - disease_output_accuracy: 0.9165 - prescription_output_accuracy: 0.7297\n",
      "Epoch 82/100\n",
      "13/13 [==============================] - 0s 13ms/step - loss: 2.2719 - disease_output_loss: 0.6989 - prescription_output_loss: 1.5731 - disease_output_accuracy: 0.9189 - prescription_output_accuracy: 0.7371\n",
      "Epoch 83/100\n",
      "13/13 [==============================] - 0s 18ms/step - loss: 2.2323 - disease_output_loss: 0.6799 - prescription_output_loss: 1.5524 - disease_output_accuracy: 0.9263 - prescription_output_accuracy: 0.7666\n",
      "Epoch 84/100\n",
      "13/13 [==============================] - 0s 17ms/step - loss: 2.2104 - disease_output_loss: 0.6708 - prescription_output_loss: 1.5396 - disease_output_accuracy: 0.9263 - prescription_output_accuracy: 0.7297\n",
      "Epoch 85/100\n",
      "13/13 [==============================] - 0s 12ms/step - loss: 2.2054 - disease_output_loss: 0.6673 - prescription_output_loss: 1.5381 - disease_output_accuracy: 0.9214 - prescription_output_accuracy: 0.7420\n",
      "Epoch 86/100\n",
      "13/13 [==============================] - 0s 13ms/step - loss: 2.1359 - disease_output_loss: 0.6386 - prescription_output_loss: 1.4974 - disease_output_accuracy: 0.9238 - prescription_output_accuracy: 0.7396\n",
      "Epoch 87/100\n",
      "13/13 [==============================] - 0s 12ms/step - loss: 2.0804 - disease_output_loss: 0.6282 - prescription_output_loss: 1.4522 - disease_output_accuracy: 0.9337 - prescription_output_accuracy: 0.7518\n",
      "Epoch 88/100\n",
      "13/13 [==============================] - 0s 10ms/step - loss: 2.0536 - disease_output_loss: 0.6161 - prescription_output_loss: 1.4375 - disease_output_accuracy: 0.9435 - prescription_output_accuracy: 0.7813\n",
      "Epoch 89/100\n",
      "13/13 [==============================] - 0s 11ms/step - loss: 2.0052 - disease_output_loss: 0.5950 - prescription_output_loss: 1.4102 - disease_output_accuracy: 0.9287 - prescription_output_accuracy: 0.7789\n",
      "Epoch 90/100\n",
      "13/13 [==============================] - 0s 14ms/step - loss: 1.9685 - disease_output_loss: 0.5828 - prescription_output_loss: 1.3857 - disease_output_accuracy: 0.9386 - prescription_output_accuracy: 0.7838\n",
      "Epoch 91/100\n",
      "13/13 [==============================] - 0s 23ms/step - loss: 1.9685 - disease_output_loss: 0.5850 - prescription_output_loss: 1.3835 - disease_output_accuracy: 0.9263 - prescription_output_accuracy: 0.7936\n",
      "Epoch 92/100\n",
      "13/13 [==============================] - 0s 19ms/step - loss: 1.9393 - disease_output_loss: 0.5681 - prescription_output_loss: 1.3711 - disease_output_accuracy: 0.9435 - prescription_output_accuracy: 0.7764\n",
      "Epoch 93/100\n",
      "13/13 [==============================] - 0s 14ms/step - loss: 1.9854 - disease_output_loss: 0.6016 - prescription_output_loss: 1.3837 - disease_output_accuracy: 0.9214 - prescription_output_accuracy: 0.7715\n",
      "Epoch 94/100\n",
      "13/13 [==============================] - 0s 13ms/step - loss: 2.0299 - disease_output_loss: 0.6209 - prescription_output_loss: 1.4090 - disease_output_accuracy: 0.9066 - prescription_output_accuracy: 0.7469\n",
      "Epoch 95/100\n",
      "13/13 [==============================] - 0s 14ms/step - loss: 1.9372 - disease_output_loss: 0.5702 - prescription_output_loss: 1.3670 - disease_output_accuracy: 0.9238 - prescription_output_accuracy: 0.7641\n",
      "Epoch 96/100\n",
      "13/13 [==============================] - 0s 12ms/step - loss: 1.9569 - disease_output_loss: 0.5775 - prescription_output_loss: 1.3794 - disease_output_accuracy: 0.9189 - prescription_output_accuracy: 0.7494\n",
      "Epoch 97/100\n",
      "13/13 [==============================] - 0s 12ms/step - loss: 1.9818 - disease_output_loss: 0.5929 - prescription_output_loss: 1.3889 - disease_output_accuracy: 0.9091 - prescription_output_accuracy: 0.7273\n",
      "Epoch 98/100\n",
      "13/13 [==============================] - 0s 19ms/step - loss: 1.9368 - disease_output_loss: 0.5890 - prescription_output_loss: 1.3478 - disease_output_accuracy: 0.9091 - prescription_output_accuracy: 0.7543\n",
      "Epoch 99/100\n",
      "13/13 [==============================] - 0s 13ms/step - loss: 1.8762 - disease_output_loss: 0.5601 - prescription_output_loss: 1.3161 - disease_output_accuracy: 0.9165 - prescription_output_accuracy: 0.7715\n",
      "Epoch 100/100\n",
      "13/13 [==============================] - 0s 13ms/step - loss: 1.8542 - disease_output_loss: 0.5483 - prescription_output_loss: 1.3060 - disease_output_accuracy: 0.9189 - prescription_output_accuracy: 0.7666\n"
     ]
    },
    {
     "data": {
      "text/plain": [
       "<keras.callbacks.History at 0x248ca511880>"
      ]
     },
     "execution_count": 11,
     "metadata": {},
     "output_type": "execute_result"
    }
   ],
   "source": [
    "model.fit(padded_sequences, {'disease_output': disease_labels_categorical, 'prescription_output':\n",
    "      prescription_labels_categorical}, epochs=100, batch_size=32)"
   ]
  },
  {
   "cell_type": "markdown",
   "metadata": {},
   "source": [
    "Making Predictions\n",
    "The model is used to make predictions for new patients:\n",
    "\n",
    "Pre-processed the patient's symptoms by performing tokenization and padding.\n",
    "Feed the pre-processed data into the trained model.\n",
    "The model predicts the disease and medication based on the patient's symptoms.\n",
    "The predicted disease and medication will be presented."
   ]
  },
  {
   "cell_type": "code",
   "execution_count": 14,
   "metadata": {},
   "outputs": [
    {
     "name": "stdout",
     "output_type": "stream",
     "text": [
      "1/1 [==============================] - 0s 52ms/step\n",
      "Predicted Disease: Thyroid Nodule\n",
      "Suggested Prescription: Pain management with medication; relaxation techniques.\n"
     ]
    }
   ],
   "source": [
    "def make_prediction(patient_problem):\n",
    "    # Preprocessing the input\n",
    "    sequence = tokenizer.texts_to_sequences([patient_problem])\n",
    "    padded_sequence = pad_sequences(sequence, maxlen=max_length, padding='post')\n",
    "    \n",
    "    # Making prediction\n",
    "    prediction = model.predict(padded_sequence)\n",
    "    \n",
    "    # Decoding the prediction\n",
    "    disease_index = np.argmax(prediction[0], axis=1)[0]\n",
    "    prescription_index = np.argmax(prediction[1], axis=1)[0]\n",
    "    \n",
    "    disease_predicted = label_encoder_disease.inverse_transform([disease_index])[0]\n",
    "    prescription_predicted = label_encoder_prescription.inverse_transform([prescription_index])[0]\n",
    "    \n",
    "    print(f\"Predicted Disease: {disease_predicted}\")\n",
    "    print(f\"Suggested Prescription: {prescription_predicted}\")\n",
    "\n",
    "\n",
    "patient_input = \"I've experienced a loss of appetite and don't enjoy food anymore.\"\n",
    "make_prediction(patient_input)"
   ]
  }
 ],
 "metadata": {
  "kernelspec": {
   "display_name": "tf",
   "language": "python",
   "name": "python3"
  },
  "language_info": {
   "codemirror_mode": {
    "name": "ipython",
    "version": 3
   },
   "file_extension": ".py",
   "mimetype": "text/x-python",
   "name": "python",
   "nbconvert_exporter": "python",
   "pygments_lexer": "ipython3",
   "version": "3.9.21"
  }
 },
 "nbformat": 4,
 "nbformat_minor": 2
}
